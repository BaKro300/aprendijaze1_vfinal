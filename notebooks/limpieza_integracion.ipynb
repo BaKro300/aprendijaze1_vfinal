{
 "cells": [
  {
   "cell_type": "markdown",
   "id": "5042533a",
   "metadata": {},
   "source": [
    "# Inicio filtrado y preparación de datos"
   ]
  },
  {
   "cell_type": "markdown",
   "id": "0ee2bbc8",
   "metadata": {},
   "source": [
    "## Importo las librerías"
   ]
  },
  {
   "cell_type": "code",
   "execution_count": 2,
   "id": "c9e39886",
   "metadata": {},
   "outputs": [],
   "source": [
    "import pandas as pd"
   ]
  },
  {
   "cell_type": "markdown",
   "id": "f504679a",
   "metadata": {},
   "source": [
    "## Cargo las bases de datos"
   ]
  },
  {
   "cell_type": "code",
   "execution_count": 3,
   "id": "a80f82da",
   "metadata": {},
   "outputs": [],
   "source": [
    "usua = pd.read_csv(\"../data/raw/usuarios_ecobici_2024.csv\", sep=',', encoding='utf_8')\n",
    "\n",
    "reco = pd.read_csv(\"../data/raw/badata_ecobici_recorridos_realizados_2024.csv\", sep=',', encoding='utf_8')"
   ]
  },
  {
   "cell_type": "markdown",
   "id": "1ffd2c06",
   "metadata": {},
   "source": [
    "Observo que los nombres de las columnas ya están en formato snake_case, por lo tanto en ese paso no realizo ninguna acción"
   ]
  },
  {
   "cell_type": "markdown",
   "id": "ce221e87",
   "metadata": {},
   "source": [
    "# Convierto fechas a tipo datetime"
   ]
  },
  {
   "cell_type": "markdown",
   "id": "15a5b333",
   "metadata": {},
   "source": [
    "En la base Recorridos realizados 2024 hay 2 columnas: fecha_origen_recorrido y fecha_destino_recorrido, las cambio"
   ]
  },
  {
   "cell_type": "code",
   "execution_count": 4,
   "id": "d30860a9",
   "metadata": {},
   "outputs": [],
   "source": [
    "reco['fecha_destino_recorrido'] = pd.to_datetime(reco['fecha_destino_recorrido'])\n",
    "reco['fecha_origen_recorrido'] = pd.to_datetime(reco['fecha_origen_recorrido'])"
   ]
  },
  {
   "cell_type": "markdown",
   "id": "ff441a05",
   "metadata": {},
   "source": [
    "Realizo un info para comprobar que se cambiaron"
   ]
  },
  {
   "cell_type": "code",
   "execution_count": 5,
   "id": "ba84e89e",
   "metadata": {},
   "outputs": [
    {
     "name": "stdout",
     "output_type": "stream",
     "text": [
      "<class 'pandas.core.frame.DataFrame'>\n",
      "RangeIndex: 3559284 entries, 0 to 3559283\n",
      "Data columns (total 17 columns):\n",
      " #   Column                      Dtype         \n",
      "---  ------                      -----         \n",
      " 0   id_recorrido                int64         \n",
      " 1   duracion_recorrido          int64         \n",
      " 2   fecha_origen_recorrido      datetime64[ns]\n",
      " 3   id_estacion_origen          int64         \n",
      " 4   nombre_estacion_origen      object        \n",
      " 5   direccion_estacion_origen   object        \n",
      " 6   long_estacion_origen        float64       \n",
      " 7   lat_estacion_origen         float64       \n",
      " 8   fecha_destino_recorrido     datetime64[ns]\n",
      " 9   id_estacion_destino         int64         \n",
      " 10  nombre_estacion_destino     object        \n",
      " 11  direccion_estacion_destino  object        \n",
      " 12  long_estacion_destino       float64       \n",
      " 13  lat_estacion_destino        float64       \n",
      " 14  id_usuario                  float64       \n",
      " 15  modelo_bicicleta            object        \n",
      " 16  genero                      object        \n",
      "dtypes: datetime64[ns](2), float64(5), int64(4), object(6)\n",
      "memory usage: 461.6+ MB\n"
     ]
    }
   ],
   "source": [
    "reco.info()"
   ]
  },
  {
   "cell_type": "markdown",
   "id": "1466dc32",
   "metadata": {},
   "source": [
    "En la base Usuarios Ecobici 2024 hay solamente 1 columna: fecha_alta, la cambio y realizo un ino para comprobar"
   ]
  },
  {
   "cell_type": "code",
   "execution_count": 17,
   "id": "2107fd8a",
   "metadata": {},
   "outputs": [
    {
     "name": "stdout",
     "output_type": "stream",
     "text": [
      "<class 'pandas.core.frame.DataFrame'>\n",
      "RangeIndex: 197077 entries, 0 to 197076\n",
      "Data columns (total 5 columns):\n",
      " #   Column          Non-Null Count   Dtype         \n",
      "---  ------          --------------   -----         \n",
      " 0   id_usuario      197077 non-null  int64         \n",
      " 1   genero_usuario  197077 non-null  object        \n",
      " 2   edad_usuario    197077 non-null  int64         \n",
      " 3   fecha_alta      197077 non-null  datetime64[ns]\n",
      " 4   hora_alta       197077 non-null  object        \n",
      "dtypes: datetime64[ns](1), int64(2), object(2)\n",
      "memory usage: 7.5+ MB\n"
     ]
    }
   ],
   "source": [
    "usua['fecha_alta'] = pd.to_datetime(usua['fecha_alta'])\n",
    "\n",
    "usua.info()"
   ]
  }
 ],
 "metadata": {
  "kernelspec": {
   "display_name": "Python 3",
   "language": "python",
   "name": "python3"
  },
  "language_info": {
   "codemirror_mode": {
    "name": "ipython",
    "version": 3
   },
   "file_extension": ".py",
   "mimetype": "text/x-python",
   "name": "python",
   "nbconvert_exporter": "python",
   "pygments_lexer": "ipython3",
   "version": "3.10.1"
  }
 },
 "nbformat": 4,
 "nbformat_minor": 5
}
