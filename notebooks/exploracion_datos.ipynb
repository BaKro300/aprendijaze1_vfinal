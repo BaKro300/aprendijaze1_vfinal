{
 "cells": [
  {
   "cell_type": "markdown",
   "id": "bc4b7a6a",
   "metadata": {},
   "source": [
    "# Inicio exploración de datos"
   ]
  },
  {
   "cell_type": "markdown",
   "id": "46f85519",
   "metadata": {},
   "source": [
    "## Importo las librerías"
   ]
  },
  {
   "cell_type": "code",
   "execution_count": 1,
   "id": "4de8617b",
   "metadata": {},
   "outputs": [],
   "source": [
    "import pandas as pd"
   ]
  },
  {
   "cell_type": "markdown",
   "id": "3f65d860",
   "metadata": {},
   "source": [
    "## Cargo las bases de datos"
   ]
  },
  {
   "cell_type": "code",
   "execution_count": 2,
   "id": "08b286dc",
   "metadata": {},
   "outputs": [],
   "source": [
    "usua = pd.read_csv(\"../data/raw/usuarios_ecobici_2024.csv\", sep=',', encoding='utf_8')\n",
    "\n",
    "reco = pd.read_csv(\"../data/raw/badata_ecobici_recorridos_realizados_2024.csv\", sep=',', encoding='utf_8')"
   ]
  },
  {
   "cell_type": "markdown",
   "id": "4e93d0df",
   "metadata": {},
   "source": [
    "## Muestro cantidad de filas y columnas de cada base"
   ]
  },
  {
   "cell_type": "code",
   "execution_count": 3,
   "id": "5c8a3aec",
   "metadata": {},
   "outputs": [
    {
     "name": "stdout",
     "output_type": "stream",
     "text": [
      "Número de filas de Usuarios Ecobici 2024: 197077\n",
      "Número de columnas de Usuarios Ecobici 2024: 5\n"
     ]
    }
   ],
   "source": [
    "# Base Usuarios Ecobici 2024\n",
    "usua_num_filas, usua_num_col = usua.shape\n",
    "# Mostrar los resultados\n",
    "print(f\"Número de filas de Usuarios Ecobici 2024: {usua_num_filas}\")\n",
    "print(f\"Número de columnas de Usuarios Ecobici 2024: {usua_num_col}\")"
   ]
  },
  {
   "cell_type": "code",
   "execution_count": 4,
   "id": "cc06f032",
   "metadata": {},
   "outputs": [
    {
     "name": "stdout",
     "output_type": "stream",
     "text": [
      "Número de filas de Recorridos realizados 2024: 3559284\n",
      "Número de columnas de Recorridos realizados 2024: 17\n"
     ]
    }
   ],
   "source": [
    "# Base Recorridos realizados 2024\n",
    "reco_num_filas, recon_num_col = reco.shape\n",
    "# Mostrar los resultados\n",
    "print(f\"Número de filas de Recorridos realizados 2024: {reco_num_filas}\")\n",
    "print(f\"Número de columnas de Recorridos realizados 2024: {recon_num_col}\")"
   ]
  },
  {
   "cell_type": "markdown",
   "id": "03c3ece6",
   "metadata": {},
   "source": [
    "## Muestro tipo de datos de cada base"
   ]
  },
  {
   "cell_type": "code",
   "execution_count": 5,
   "id": "31a78f0c",
   "metadata": {},
   "outputs": [
    {
     "name": "stdout",
     "output_type": "stream",
     "text": [
      "Tipos de datos de base Usuarios Ecobici 2024\n"
     ]
    },
    {
     "data": {
      "application/vnd.microsoft.datawrangler.viewer.v0+json": {
       "columns": [
        {
         "name": "index",
         "rawType": "object",
         "type": "string"
        },
        {
         "name": "0",
         "rawType": "object",
         "type": "unknown"
        }
       ],
       "ref": "c314b7cc-049b-4bce-9a25-3e9dee664e34",
       "rows": [
        [
         "id_usuario",
         "int64"
        ],
        [
         "genero_usuario",
         "object"
        ],
        [
         "edad_usuario",
         "int64"
        ],
        [
         "fecha_alta",
         "object"
        ],
        [
         "hora_alta",
         "object"
        ]
       ],
       "shape": {
        "columns": 1,
        "rows": 5
       }
      },
      "text/plain": [
       "id_usuario         int64\n",
       "genero_usuario    object\n",
       "edad_usuario       int64\n",
       "fecha_alta        object\n",
       "hora_alta         object\n",
       "dtype: object"
      ]
     },
     "execution_count": 5,
     "metadata": {},
     "output_type": "execute_result"
    }
   ],
   "source": [
    "print(\"Tipos de datos de base Usuarios Ecobici 2024\")\n",
    "usua.dtypes"
   ]
  },
  {
   "cell_type": "code",
   "execution_count": 6,
   "id": "f7f41b2b",
   "metadata": {},
   "outputs": [
    {
     "name": "stdout",
     "output_type": "stream",
     "text": [
      "Tipos de datos de base Recorridos realizados 2024\n"
     ]
    },
    {
     "data": {
      "application/vnd.microsoft.datawrangler.viewer.v0+json": {
       "columns": [
        {
         "name": "index",
         "rawType": "object",
         "type": "string"
        },
        {
         "name": "0",
         "rawType": "object",
         "type": "unknown"
        }
       ],
       "ref": "092b7207-7e11-4f2e-a248-1954db86445d",
       "rows": [
        [
         "id_recorrido",
         "int64"
        ],
        [
         "duracion_recorrido",
         "int64"
        ],
        [
         "fecha_origen_recorrido",
         "object"
        ],
        [
         "id_estacion_origen",
         "int64"
        ],
        [
         "nombre_estacion_origen",
         "object"
        ],
        [
         "direccion_estacion_origen",
         "object"
        ],
        [
         "long_estacion_origen",
         "float64"
        ],
        [
         "lat_estacion_origen",
         "float64"
        ],
        [
         "fecha_destino_recorrido",
         "object"
        ],
        [
         "id_estacion_destino",
         "int64"
        ],
        [
         "nombre_estacion_destino",
         "object"
        ],
        [
         "direccion_estacion_destino",
         "object"
        ],
        [
         "long_estacion_destino",
         "float64"
        ],
        [
         "lat_estacion_destino",
         "float64"
        ],
        [
         "id_usuario",
         "float64"
        ],
        [
         "modelo_bicicleta",
         "object"
        ],
        [
         "genero",
         "object"
        ]
       ],
       "shape": {
        "columns": 1,
        "rows": 17
       }
      },
      "text/plain": [
       "id_recorrido                    int64\n",
       "duracion_recorrido              int64\n",
       "fecha_origen_recorrido         object\n",
       "id_estacion_origen              int64\n",
       "nombre_estacion_origen         object\n",
       "direccion_estacion_origen      object\n",
       "long_estacion_origen          float64\n",
       "lat_estacion_origen           float64\n",
       "fecha_destino_recorrido        object\n",
       "id_estacion_destino             int64\n",
       "nombre_estacion_destino        object\n",
       "direccion_estacion_destino     object\n",
       "long_estacion_destino         float64\n",
       "lat_estacion_destino          float64\n",
       "id_usuario                    float64\n",
       "modelo_bicicleta               object\n",
       "genero                         object\n",
       "dtype: object"
      ]
     },
     "execution_count": 6,
     "metadata": {},
     "output_type": "execute_result"
    }
   ],
   "source": [
    "print(\"Tipos de datos de base Recorridos realizados 2024\")\n",
    "reco.dtypes"
   ]
  },
  {
   "cell_type": "markdown",
   "id": "c26d6176",
   "metadata": {},
   "source": [
    "## Muestro valores nulos de cada base"
   ]
  },
  {
   "cell_type": "code",
   "execution_count": 7,
   "id": "f7af9eda",
   "metadata": {},
   "outputs": [
    {
     "name": "stdout",
     "output_type": "stream",
     "text": [
      "Nulos por columna de base Usuarios Ecobici 2024\n",
      "id_usuario        0\n",
      "genero_usuario    0\n",
      "edad_usuario      0\n",
      "fecha_alta        0\n",
      "hora_alta         0\n",
      "dtype: int64\n"
     ]
    }
   ],
   "source": [
    "print(\"Nulos por columna de base Usuarios Ecobici 2024\")\n",
    "print(usua.isnull().sum())"
   ]
  },
  {
   "cell_type": "code",
   "execution_count": 8,
   "id": "0f0beb65",
   "metadata": {},
   "outputs": [
    {
     "name": "stdout",
     "output_type": "stream",
     "text": [
      "Nulos por columna de base Recorridos realizados 2024\n",
      "id_recorrido                      0\n",
      "duracion_recorrido                0\n",
      "fecha_origen_recorrido            0\n",
      "id_estacion_origen                0\n",
      "nombre_estacion_origen            0\n",
      "direccion_estacion_origen         0\n",
      "long_estacion_origen              0\n",
      "lat_estacion_origen               0\n",
      "fecha_destino_recorrido        3379\n",
      "id_estacion_destino               0\n",
      "nombre_estacion_destino           0\n",
      "direccion_estacion_destino        0\n",
      "long_estacion_destino             0\n",
      "lat_estacion_destino              0\n",
      "id_usuario                        0\n",
      "modelo_bicicleta                  0\n",
      "genero                        11946\n",
      "dtype: int64\n"
     ]
    }
   ],
   "source": [
    "print(\"Nulos por columna de base Recorridos realizados 2024\")\n",
    "print(reco.isnull().sum())"
   ]
  },
  {
   "cell_type": "markdown",
   "id": "38b0343a",
   "metadata": {},
   "source": [
    "Observo que en la base Usuarios Ecobici 2024 no hay valores null, y en Recorridos realizados 2024 hay valores null en las columnas fecha_destino_recorrido y genero, aunque al tratarse de una base con mas de 3.500.000 de datos esos valores no representan ni 0,5%"
   ]
  }
 ],
 "metadata": {
  "kernelspec": {
   "display_name": "Python 3",
   "language": "python",
   "name": "python3"
  },
  "language_info": {
   "codemirror_mode": {
    "name": "ipython",
    "version": 3
   },
   "file_extension": ".py",
   "mimetype": "text/x-python",
   "name": "python",
   "nbconvert_exporter": "python",
   "pygments_lexer": "ipython3",
   "version": "3.10.1"
  }
 },
 "nbformat": 4,
 "nbformat_minor": 5
}
